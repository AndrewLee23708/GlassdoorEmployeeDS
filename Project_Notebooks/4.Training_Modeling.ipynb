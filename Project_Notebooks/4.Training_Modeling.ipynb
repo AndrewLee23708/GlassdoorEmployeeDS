{
 "cells": [
  {
   "cell_type": "markdown",
   "metadata": {},
   "source": [
    "- [4.1 Overview](#4_1)\n",
    "- [4.2 Imports and Loading](#4_2)\n",
    "- [4.3 Preprocessing](#4_3)\n",
    "- [4.4 Modeling](#4_4)\n",
    "    - [4.4.1 Linear Regression]\n",
    "    - [4.4.2]\n",
    "- [4.5 Evaluation](#4_5)"
   ]
  },
  {
   "cell_type": "markdown",
   "metadata": {},
   "source": [
    "## 4.1 Overview\n",
    "- We now conduct preprocessing and feature selection to find variables that's important to predicting our job satisfaction (overall_rating)\n",
    "- Our goal is to use models to define `correlation/drivers` a users sentiment have towards their job (overall_rating) based on their rating towards different aspects of their life, the industries and level of management they are in, and based off of their reviews of their jobs"
   ]
  },
  {
   "cell_type": "markdown",
   "metadata": {},
   "source": [
    "## 4.2 Imports and Loading"
   ]
  },
  {
   "cell_type": "code",
   "execution_count": 2,
   "metadata": {},
   "outputs": [],
   "source": [
    "import numpy as np\n",
    "import pandas as pd\n",
    "import matplotlib.pyplot as plt\n",
    "import seaborn as sns\n",
    "\n",
    "from sklearn.model_selection import train_test_split, cross_validate, cross_val_score, GridSearchCV\n",
    "from sklearn.preprocessing import OneHotEncoder, StandardScaler\n",
    "from sklearn.compose import ColumnTransformer\n",
    "from sklearn.decomposition import PCA, TruncatedSVD\n",
    "\n",
    "from sklearn.linear_model import LinearRegression, LogisticRegression, Ridge\n",
    "\n",
    "from sklearn.metrics import mean_squared_error, r2_score, mean_absolute_error\n",
    "from sklearn.metrics import accuracy_score, precision_score, recall_score, f1_score, roc_auc_score, confusion_matrix\n",
    "\n",
    "from sklearn.ensemble import RandomForestRegressor\n",
    "from sklearn.feature_extraction.text import TfidfVectorizer\n",
    "\n",
    "from sklearn.feature_selection import SelectKBest, f_regression\n",
    "from sklearn.pipeline import make_pipeline\n",
    "\n",
    "\n",
    "### Run lineaer just in case, (people may ask about skipping it) (r2) (which models has smallest rsme)\n",
    "### justification for models you use\n",
    "### tree based models, distance between model outputs (no goodness of fit of model, look at the error (true satisfaction vs model satifaction))\n",
    "    ### 80% fits the model well, apply model on test set\n",
    "\n",
    "### Debate building models and find correlation vs models to predict\n",
    "    ### Main goal is correlation and find drivers, run it through test set. Train data on everything and make sure model fits well. @@@ r^2 (linear) and rsme (in both)\n",
    "    ### research evaluation metrics as well.\n",
    "    ### If predicting, than I would make sure it fits well on test set.\n",
    "    ### Play if ratings if anything above 3 bad, higher 3 good. Then i can use logistic regression, (Help us get more signal, less response variable) \n",
    "        ### Classification is more popular (customer churn, buy, etc based on binary and help simplify problems)\n",
    "    ### XGboost (overtook svm, look into shap)\n",
    "\n",
    "### experiment design for next segment\n",
    "    ### refresher on stats\n",
    "    ### hypothesis what you want to test (think about questions), find datasets to work with. Maybe take this hypothesis test on test, see if employees in tech is better than others.\n",
    "    ### do statistical test on this (control and treatment, you can make your own treatments)\n",
    "        ### ideas: democratic/republican, left/right handed smarter, etc.\n",
    "\n",
    "### in terms of topics, deep learning not yet (helpful to know it, but not the main)\n",
    "    ### Andrew Ng's deep learning course, some ml models much more efficient outcome (not as much in applied ds roles)\n",
    "    ### newsletter outline for this week for ML"
   ]
  },
  {
   "cell_type": "code",
   "execution_count": 4,
   "metadata": {},
   "outputs": [
    {
     "name": "stdout",
     "output_type": "stream",
     "text": [
      "<class 'pandas.core.frame.DataFrame'>\n",
      "RangeIndex: 242755 entries, 0 to 242754\n",
      "Data columns (total 21 columns):\n",
      " #   Column             Non-Null Count   Dtype  \n",
      "---  ------             --------------   -----  \n",
      " 0   industry           242755 non-null  object \n",
      " 1   firm               242755 non-null  object \n",
      " 2   job_title          242702 non-null  object \n",
      " 3   level              242755 non-null  int64  \n",
      " 4   status             140598 non-null  float64\n",
      " 5   years              98024 non-null   float64\n",
      " 6   location           242755 non-null  object \n",
      " 7   overall_rating     242755 non-null  int64  \n",
      " 8   work_life_balance  242755 non-null  float64\n",
      " 9   culture_values     242755 non-null  float64\n",
      " 10  career_opp         242755 non-null  float64\n",
      " 11  comp_benefits      242755 non-null  float64\n",
      " 12  senior_mgmt        242755 non-null  float64\n",
      " 13  headline           242755 non-null  object \n",
      " 14  pros               242755 non-null  object \n",
      " 15  cons               242755 non-null  object \n",
      " 16  combined_text      242755 non-null  object \n",
      " 17  processed_text     242755 non-null  object \n",
      " 18  word_count         242755 non-null  int64  \n",
      " 19  char_count         242755 non-null  int64  \n",
      " 20  sentiment_score    242755 non-null  float64\n",
      "dtypes: float64(8), int64(4), object(9)\n",
      "memory usage: 38.9+ MB\n"
     ]
    }
   ],
   "source": [
    "df = pd.read_csv('/Users/Andre/OneDrive/Desktop/1_Glassdoor_Project/CleanedData/clean_data_2.csv')\n",
    "\n",
    "df.info()"
   ]
  },
  {
   "cell_type": "code",
   "execution_count": 4,
   "metadata": {},
   "outputs": [
    {
     "data": {
      "text/html": [
       "<div>\n",
       "<style scoped>\n",
       "    .dataframe tbody tr th:only-of-type {\n",
       "        vertical-align: middle;\n",
       "    }\n",
       "\n",
       "    .dataframe tbody tr th {\n",
       "        vertical-align: top;\n",
       "    }\n",
       "\n",
       "    .dataframe thead th {\n",
       "        text-align: right;\n",
       "    }\n",
       "</style>\n",
       "<table border=\"1\" class=\"dataframe\">\n",
       "  <thead>\n",
       "    <tr style=\"text-align: right;\">\n",
       "      <th></th>\n",
       "      <th>industry</th>\n",
       "      <th>firm</th>\n",
       "      <th>level</th>\n",
       "      <th>job_title</th>\n",
       "      <th>status</th>\n",
       "      <th>years</th>\n",
       "      <th>location</th>\n",
       "      <th>overall_rating</th>\n",
       "      <th>work_life_balance</th>\n",
       "      <th>culture_values</th>\n",
       "      <th>career_opp</th>\n",
       "      <th>comp_benefits</th>\n",
       "      <th>senior_mgmt</th>\n",
       "      <th>headline</th>\n",
       "      <th>pros</th>\n",
       "      <th>cons</th>\n",
       "      <th>processed_text</th>\n",
       "      <th>word_count</th>\n",
       "      <th>char_count</th>\n",
       "      <th>sentiment_score</th>\n",
       "    </tr>\n",
       "  </thead>\n",
       "  <tbody>\n",
       "    <tr>\n",
       "      <th>0</th>\n",
       "      <td>Tech</td>\n",
       "      <td>IBM</td>\n",
       "      <td>2</td>\n",
       "      <td>Test Lead</td>\n",
       "      <td>0.0</td>\n",
       "      <td>1.0</td>\n",
       "      <td>Halifax, NS</td>\n",
       "      <td>1</td>\n",
       "      <td>1.0</td>\n",
       "      <td>1.0</td>\n",
       "      <td>4.0</td>\n",
       "      <td>2.0</td>\n",
       "      <td>1.0</td>\n",
       "      <td>Very bad place to work</td>\n",
       "      <td>IBM provides lot of training to employees</td>\n",
       "      <td>Salary, They treat employees very bad. Employe...</td>\n",
       "      <td>bad place work IBM provide lot training employ...</td>\n",
       "      <td>14</td>\n",
       "      <td>98</td>\n",
       "      <td>-0.6486</td>\n",
       "    </tr>\n",
       "    <tr>\n",
       "      <th>1</th>\n",
       "      <td>Tech</td>\n",
       "      <td>IBM</td>\n",
       "      <td>1</td>\n",
       "      <td>Associate Systems Engineer</td>\n",
       "      <td>0.0</td>\n",
       "      <td>0.5</td>\n",
       "      <td>Bangalore</td>\n",
       "      <td>3</td>\n",
       "      <td>4.0</td>\n",
       "      <td>3.0</td>\n",
       "      <td>3.0</td>\n",
       "      <td>1.0</td>\n",
       "      <td>2.0</td>\n",
       "      <td>Associate System Engineer</td>\n",
       "      <td>Good Work Life Balance, Cool Projects.Employee...</td>\n",
       "      <td>NO HIKE. AN IBM EMPLOYEE DOESN'T  HAVE RIGHT T...</td>\n",
       "      <td>associate System Engineer Good Work Life Balan...</td>\n",
       "      <td>50</td>\n",
       "      <td>344</td>\n",
       "      <td>0.9425</td>\n",
       "    </tr>\n",
       "    <tr>\n",
       "      <th>2</th>\n",
       "      <td>Tech</td>\n",
       "      <td>IBM</td>\n",
       "      <td>3</td>\n",
       "      <td>Program Director</td>\n",
       "      <td>1.0</td>\n",
       "      <td>0.5</td>\n",
       "      <td>Tampa, FL</td>\n",
       "      <td>2</td>\n",
       "      <td>1.0</td>\n",
       "      <td>1.0</td>\n",
       "      <td>1.0</td>\n",
       "      <td>2.0</td>\n",
       "      <td>1.0</td>\n",
       "      <td>IBM - the people are great - Company could car...</td>\n",
       "      <td>Amazing, talented, people. Everything that is ...</td>\n",
       "      <td>IBM the corporation does not value their emplo...</td>\n",
       "      <td>IBM people great company care amazing talented...</td>\n",
       "      <td>18</td>\n",
       "      <td>125</td>\n",
       "      <td>0.9571</td>\n",
       "    </tr>\n",
       "    <tr>\n",
       "      <th>3</th>\n",
       "      <td>Tech</td>\n",
       "      <td>IBM</td>\n",
       "      <td>2</td>\n",
       "      <td>Technical Support Engineer</td>\n",
       "      <td>1.0</td>\n",
       "      <td>3.0</td>\n",
       "      <td>Hyderābād</td>\n",
       "      <td>1</td>\n",
       "      <td>3.0</td>\n",
       "      <td>1.0</td>\n",
       "      <td>1.0</td>\n",
       "      <td>3.0</td>\n",
       "      <td>1.0</td>\n",
       "      <td>Soulless company</td>\n",
       "      <td>Good to have it on your resume</td>\n",
       "      <td>- no culture \\r\\n- no real career path\\r\\n- yo...</td>\n",
       "      <td>soulless company Good resume culture \\r\\n real...</td>\n",
       "      <td>11</td>\n",
       "      <td>89</td>\n",
       "      <td>0.0258</td>\n",
       "    </tr>\n",
       "    <tr>\n",
       "      <th>4</th>\n",
       "      <td>Tech</td>\n",
       "      <td>IBM</td>\n",
       "      <td>3</td>\n",
       "      <td>Senior Software Engineer</td>\n",
       "      <td>1.0</td>\n",
       "      <td>NaN</td>\n",
       "      <td>Research Triangle Park, NC</td>\n",
       "      <td>3</td>\n",
       "      <td>5.0</td>\n",
       "      <td>4.0</td>\n",
       "      <td>4.0</td>\n",
       "      <td>4.0</td>\n",
       "      <td>2.0</td>\n",
       "      <td>an OK place to work</td>\n",
       "      <td>tech leader, constant encouragement to continu...</td>\n",
       "      <td>executive level management will cut budgets an...</td>\n",
       "      <td>ok place work tech leader constant encourageme...</td>\n",
       "      <td>21</td>\n",
       "      <td>146</td>\n",
       "      <td>0.7351</td>\n",
       "    </tr>\n",
       "  </tbody>\n",
       "</table>\n",
       "</div>"
      ],
      "text/plain": [
       "  industry firm  level                   job_title  status  years  \\\n",
       "0     Tech  IBM      2                   Test Lead     0.0    1.0   \n",
       "1     Tech  IBM      1  Associate Systems Engineer     0.0    0.5   \n",
       "2     Tech  IBM      3            Program Director     1.0    0.5   \n",
       "3     Tech  IBM      2  Technical Support Engineer     1.0    3.0   \n",
       "4     Tech  IBM      3    Senior Software Engineer     1.0    NaN   \n",
       "\n",
       "                     location  overall_rating  work_life_balance  \\\n",
       "0                 Halifax, NS               1                1.0   \n",
       "1                   Bangalore               3                4.0   \n",
       "2                   Tampa, FL               2                1.0   \n",
       "3                   Hyderābād               1                3.0   \n",
       "4  Research Triangle Park, NC               3                5.0   \n",
       "\n",
       "   culture_values  career_opp  comp_benefits  senior_mgmt  \\\n",
       "0             1.0         4.0            2.0          1.0   \n",
       "1             3.0         3.0            1.0          2.0   \n",
       "2             1.0         1.0            2.0          1.0   \n",
       "3             1.0         1.0            3.0          1.0   \n",
       "4             4.0         4.0            4.0          2.0   \n",
       "\n",
       "                                            headline  \\\n",
       "0                             Very bad place to work   \n",
       "1                          Associate System Engineer   \n",
       "2  IBM - the people are great - Company could car...   \n",
       "3                                   Soulless company   \n",
       "4                                an OK place to work   \n",
       "\n",
       "                                                pros  \\\n",
       "0          IBM provides lot of training to employees   \n",
       "1  Good Work Life Balance, Cool Projects.Employee...   \n",
       "2  Amazing, talented, people. Everything that is ...   \n",
       "3                     Good to have it on your resume   \n",
       "4  tech leader, constant encouragement to continu...   \n",
       "\n",
       "                                                cons  \\\n",
       "0  Salary, They treat employees very bad. Employe...   \n",
       "1  NO HIKE. AN IBM EMPLOYEE DOESN'T  HAVE RIGHT T...   \n",
       "2  IBM the corporation does not value their emplo...   \n",
       "3  - no culture \\r\\n- no real career path\\r\\n- yo...   \n",
       "4  executive level management will cut budgets an...   \n",
       "\n",
       "                                      processed_text  word_count  char_count  \\\n",
       "0  bad place work IBM provide lot training employ...          14          98   \n",
       "1  associate System Engineer Good Work Life Balan...          50         344   \n",
       "2  IBM people great company care amazing talented...          18         125   \n",
       "3  soulless company Good resume culture \\r\\n real...          11          89   \n",
       "4  ok place work tech leader constant encourageme...          21         146   \n",
       "\n",
       "   sentiment_score  \n",
       "0          -0.6486  \n",
       "1           0.9425  \n",
       "2           0.9571  \n",
       "3           0.0258  \n",
       "4           0.7351  "
      ]
     },
     "execution_count": 4,
     "metadata": {},
     "output_type": "execute_result"
    }
   ],
   "source": [
    "df.head(5)"
   ]
  },
  {
   "cell_type": "markdown",
   "metadata": {},
   "source": [
    "## 4.3 Data Preprocessing\n",
    "- Make we process all NaN values\n",
    "- Hot encode/Imput any values if necessary"
   ]
  },
  {
   "cell_type": "markdown",
   "metadata": {},
   "source": [
    "### 4.3.1 Imputing, NaN Handling, Preparing for training"
   ]
  },
  {
   "cell_type": "code",
   "execution_count": 5,
   "metadata": {},
   "outputs": [
    {
     "data": {
      "text/plain": [
       "industry                 0\n",
       "firm                     0\n",
       "level                    0\n",
       "job_title               34\n",
       "status               67939\n",
       "years                92463\n",
       "location                 0\n",
       "overall_rating           0\n",
       "work_life_balance        0\n",
       "culture_values           0\n",
       "career_opp               0\n",
       "comp_benefits            0\n",
       "senior_mgmt              0\n",
       "headline                 0\n",
       "pros                     0\n",
       "cons                     0\n",
       "processed_text           0\n",
       "word_count               0\n",
       "char_count               0\n",
       "sentiment_score          0\n",
       "dtype: int64"
      ]
     },
     "execution_count": 5,
     "metadata": {},
     "output_type": "execute_result"
    }
   ],
   "source": [
    "## Remove job_title rows NA values\n",
    "## As we looked at in the EDA, status and years has minimal effect on our overall_rating and majority is NaN. We should drop these columns\n",
    "df.isnull().sum()"
   ]
  },
  {
   "cell_type": "code",
   "execution_count": 6,
   "metadata": {},
   "outputs": [
    {
     "data": {
      "text/plain": [
       "industry             0\n",
       "level                0\n",
       "overall_rating       0\n",
       "work_life_balance    0\n",
       "culture_values       0\n",
       "career_opp           0\n",
       "comp_benefits        0\n",
       "senior_mgmt          0\n",
       "processed_text       0\n",
       "sentiment_score      0\n",
       "dtype: int64"
      ]
     },
     "execution_count": 6,
     "metadata": {},
     "output_type": "execute_result"
    }
   ],
   "source": [
    "### Also headline, pros, and cons columns have been processed already so we can drop this for our model\n",
    "### Futhermore, word and char count is insignificant too.\n",
    "df.dropna(subset=['job_title'], inplace= True)\n",
    "df.drop(columns=['headline','pros','cons','status','years','word_count','char_count'], inplace = True)\n",
    "\n",
    "### We are also interested in the industy and level trends,  firm name, job_title, and location can be forgone for our model\n",
    "df.drop(columns=['firm','job_title','location'], inplace = True)\n",
    "\n",
    "df.isnull().sum()"
   ]
  },
  {
   "cell_type": "markdown",
   "metadata": {},
   "source": [
    "We don't have any numerical columns in need of imputing, we selected our values before"
   ]
  },
  {
   "cell_type": "code",
   "execution_count": 7,
   "metadata": {},
   "outputs": [
    {
     "name": "stdout",
     "output_type": "stream",
     "text": [
      "<class 'pandas.core.frame.DataFrame'>\n",
      "Index: 150186 entries, 0 to 150219\n",
      "Data columns (total 10 columns):\n",
      " #   Column             Non-Null Count   Dtype  \n",
      "---  ------             --------------   -----  \n",
      " 0   industry           150186 non-null  object \n",
      " 1   level              150186 non-null  int64  \n",
      " 2   overall_rating     150186 non-null  int64  \n",
      " 3   work_life_balance  150186 non-null  float64\n",
      " 4   culture_values     150186 non-null  float64\n",
      " 5   career_opp         150186 non-null  float64\n",
      " 6   comp_benefits      150186 non-null  float64\n",
      " 7   senior_mgmt        150186 non-null  float64\n",
      " 8   processed_text     150186 non-null  object \n",
      " 9   sentiment_score    150186 non-null  float64\n",
      "dtypes: float64(6), int64(2), object(2)\n",
      "memory usage: 12.6+ MB\n"
     ]
    }
   ],
   "source": [
    "df.info()"
   ]
  },
  {
   "cell_type": "markdown",
   "metadata": {},
   "source": [
    "### 4.3.3 Test/Train Split"
   ]
  },
  {
   "cell_type": "code",
   "execution_count": 8,
   "metadata": {},
   "outputs": [],
   "source": [
    "X = df.drop(columns=['overall_rating'])\n",
    "y = df['overall_rating']\n",
    "\n",
    "X_train, X_test, y_train, y_test = train_test_split(X, y, test_size=0.3, random_state=42)"
   ]
  },
  {
   "cell_type": "markdown",
   "metadata": {},
   "source": [
    "### 4.3.4 Feature Seperation\n",
    "- Let's seperate our features into numerical, categorical, and text columns"
   ]
  },
  {
   "cell_type": "code",
   "execution_count": 26,
   "metadata": {},
   "outputs": [],
   "source": [
    "numerical_features = ['work_life_balance', 'culture_values', 'career_opp', 'comp_benefits', 'senior_mgmt', 'level', 'sentiment_score']\n",
    "numerical_transformer = StandardScaler()\n",
    "\n",
    "categorical_features = ['industry']\n",
    "categorical_transformer = OneHotEncoder()\n",
    "\n",
    "text_features = 'processed_text'\n",
    "text_transformer = TfidfVectorizer(max_features=5000)\n",
    "\n",
    "preprocessor = ColumnTransformer(\n",
    "    transformers=[\n",
    "        ('num', numerical_transformer, numerical_features),\n",
    "        ('cat', categorical_transformer, categorical_features),\n",
    "        ('text', text_transformer, text_features)\n",
    "    ]\n",
    ")"
   ]
  },
  {
   "cell_type": "markdown",
   "metadata": {},
   "source": [
    "### Dimensionality Reduction"
   ]
  },
  {
   "cell_type": "code",
   "execution_count": 27,
   "metadata": {},
   "outputs": [],
   "source": [
    "from sklearn.decomposition import TruncatedSVD\n",
    "\n",
    "svd = TruncatedSVD(n_components=50)\n",
    "X_train_svd = svd.fit_transform(preprocessor.fit_transform(X_train))\n",
    "X_test_svd = svd.transform(preprocessor.transform(X_test))"
   ]
  },
  {
   "cell_type": "markdown",
   "metadata": {},
   "source": [
    "## 4.5 Model Training"
   ]
  },
  {
   "cell_type": "markdown",
   "metadata": {},
   "source": [
    "### 4.5.1 Linear Regression"
   ]
  },
  {
   "cell_type": "code",
   "execution_count": 28,
   "metadata": {},
   "outputs": [
    {
     "name": "stdout",
     "output_type": "stream",
     "text": [
      "Cross-validation RMSE: 0.602428317060703\n",
      "Linear Regression RMSE: 0.600717206506581\n",
      "Linear Regression R²: 0.7272021840874573\n"
     ]
    }
   ],
   "source": [
    "#Linear regression\n",
    "lg_pipeline = make_pipeline(preprocessor, LinearRegression())\n",
    "lg_pipeline.fit(X_train, y_train)\n",
    "\n",
    "cv_scores = cross_val_score(lg_pipeline, X_train, y_train, cv=5, scoring='neg_mean_squared_error')\n",
    "\n",
    "print(\"Cross-validation RMSE:\", np.sqrt(-cv_scores).mean())\n",
    "\n",
    "# Evaluate the model on the test set\n",
    "y_pred = lg_pipeline.predict(X_test)\n",
    "\n",
    "# Calculate RMSE and R² score\n",
    "rmse = np.sqrt(mean_squared_error(y_test, y_pred))\n",
    "r2 = r2_score(y_test, y_pred)\n",
    "\n",
    "print(f\"Linear Regression RMSE: {rmse}\")\n",
    "print(f\"Linear Regression R²: {r2}\")"
   ]
  },
  {
   "cell_type": "markdown",
   "metadata": {},
   "source": [
    "Good score?"
   ]
  },
  {
   "cell_type": "markdown",
   "metadata": {},
   "source": [
    "### 4.5.2 Logisitics Regression\n",
    "We can also perform logistics regression, by seperating our overall ratings into 2 categories: 1 (ratings of 5,4) and 0 (3,2,1)"
   ]
  },
  {
   "cell_type": "code",
   "execution_count": 39,
   "metadata": {},
   "outputs": [
    {
     "name": "stdout",
     "output_type": "stream",
     "text": [
      "2\n",
      "2\n"
     ]
    }
   ],
   "source": [
    "# Convert our values to binary\n",
    "key = {5: 1, 4: 1, 3: 0, 2: 0, 1: 0}\n",
    "\n",
    "y_train_log = y_train.map(key)\n",
    "y_test_log = y_test.map(key)\n",
    "\n",
    "print(y_train_log.nunique())\n",
    "print(y_test_log.nunique())\n"
   ]
  },
  {
   "cell_type": "code",
   "execution_count": 38,
   "metadata": {},
   "outputs": [
    {
     "name": "stdout",
     "output_type": "stream",
     "text": [
      "Accuracy: 0.8744673295454546\n",
      "Precision: 0.8914058851004204\n",
      "Recall: 0.9175480769230769\n",
      "F1 Score: 0.9042880833925611\n",
      "AUC: 0.8566467794253939\n"
     ]
    },
    {
     "data": {
      "image/png": "[encoded data removed]",
      "text/plain": [
       "<Figure size 800x600 with 2 Axes>"
      ]
     },
     "metadata": {},
     "output_type": "display_data"
    }
   ],
   "source": [
    "log_pipeline = make_pipeline(preprocessor, LogisticRegression(max_iter=1000))\n",
    "log_pipeline.fit(X_train, y_train_log)\n",
    "\n",
    "y_pred_log = log_pipeline.predict(X_test)\n",
    "\n",
    "accuracy = accuracy_score(y_test_log, y_pred_log)\n",
    "precision = precision_score(y_test_log, y_pred_log, average='binary')\n",
    "recall = recall_score(y_test_log, y_pred_log, average='binary')\n",
    "f1 = f1_score(y_test_log, y_pred_log, average='binary')\n",
    "auc = roc_auc_score(y_test_log, y_pred_log)\n",
    "conf_matrix = confusion_matrix(y_test_log, y_pred_log)\n",
    "\n",
    "print(f\"Accuracy: {accuracy}\")\n",
    "print(f\"Precision: {precision}\")\n",
    "print(f\"Recall: {recall}\")\n",
    "print(f\"F1 Score: {f1}\")\n",
    "print(f\"AUC: {auc}\")\n",
    "\n",
    "plt.figure(figsize=(8, 6))\n",
    "sns.heatmap(conf_matrix, annot=True, fmt='d', cmap='Blues', xticklabels=['Predicted 0', 'Predicted 1'], yticklabels=['Actual 0', 'Actual 1'])\n",
    "plt.xlabel('Predicted Labels')\n",
    "plt.ylabel('True Labels')\n",
    "plt.title('Confusion Matrix')\n",
    "plt.show()"
   ]
  },
  {
   "cell_type": "markdown",
   "metadata": {},
   "source": [
    "Metrics much better than Linear Regression"
   ]
  },
  {
   "cell_type": "markdown",
   "metadata": {},
   "source": [
    "### 4.5.3 Ridge Regression\n"
   ]
  },
  {
   "cell_type": "code",
   "execution_count": null,
   "metadata": {},
   "outputs": [],
   "source": []
  },
  {
   "cell_type": "code",
   "execution_count": null,
   "metadata": {},
   "outputs": [],
   "source": []
  },
  {
   "cell_type": "code",
   "execution_count": null,
   "metadata": {},
   "outputs": [],
   "source": []
  },
  {
   "cell_type": "markdown",
   "metadata": {},
   "source": [
    "### 4.5.4 Random Forest Classifier "
   ]
  },
  {
   "cell_type": "code",
   "execution_count": 45,
   "metadata": {},
   "outputs": [],
   "source": [
    "rf_pipeline = make_pipeline(preprocessor, RandomForestRegressor(n_jobs=-1))\n",
    "\n",
    "rf_param_grid = {\n",
    "    'randomforestregressor__n_estimators': [50, 100],\n",
    "    'randomforestregressor__max_depth': [None, 10, 20]\n",
    "}\n",
    "\n",
    "grid_search_rf = GridSearchCV(rf_pipeline, rf_param_grid, cv=5, n_jobs=-1, scoring='neg_mean_squared_error')\n",
    "grid_search_rf.fit(X_train, y_train)\n",
    "\n",
    "print(\"Best parameters for Random Forest:\", grid_search_rf.best_params_)\n",
    "print(\"Best cross-validation score for Random Forest:\", -grid_search_rf.best_score_)\n",
    "\n",
    "# Evaluate the model on the test set\n",
    "best_rf = grid_search_rf.best_estimator_\n",
    "y_pred = best_rf.predict(X_test)"
   ]
  },
  {
   "cell_type": "markdown",
   "metadata": {},
   "source": [
    "### 4.5.5 LightLGBM classifier"
   ]
  },
  {
   "cell_type": "code",
   "execution_count": null,
   "metadata": {},
   "outputs": [],
   "source": [
    "from lightgbm import LGBMRegressor\n",
    "\n",
    "# Define the parameter grid for GridSearchCV\n",
    "param_grid_lgbm = {\n",
    "    'lgbmregressor__n_estimators': [100, 200],\n",
    "    'lgbmregressor__learning_rate': [0.01, 0.1],\n",
    "    'lgbmregressor__max_depth': [10, 20, -1]\n",
    "}\n",
    "\n",
    "# Perform GridSearchCV to find the best hyperparameters\n",
    "grid_search_lgbm = GridSearchCV(pipeline_lgbm, param_grid_lgbm, cv=5, n_jobs=-1, scoring='neg_mean_squared_error')\n",
    "grid_search_lgbm.fit(X_train, y_train)\n",
    "\n",
    "# Print the best parameters and score\n",
    "print(\"Best parameters for LightGBM:\", grid_search_lgbm.best_params_)\n",
    "print(\"Best cross-validation score for LightGBM:\", -grid_search_lgbm.best_score_)"
   ]
  },
  {
   "cell_type": "code",
   "execution_count": null,
   "metadata": {},
   "outputs": [],
   "source": []
  },
  {
   "cell_type": "markdown",
   "metadata": {},
   "source": [
    "### 4.5.6 SHAP"
   ]
  },
  {
   "cell_type": "code",
   "execution_count": null,
   "metadata": {},
   "outputs": [],
   "source": []
  },
  {
   "cell_type": "markdown",
   "metadata": {},
   "source": [
    "## 4.6 Model Evaluation\n",
    "- Calculate RMSE and R² score"
   ]
  },
  {
   "cell_type": "code",
   "execution_count": 55,
   "metadata": {},
   "outputs": [
    {
     "name": "stdout",
     "output_type": "stream",
     "text": [
      "RMSE: 0.5900673887962733\n",
      "R²: 0.7370145594825115\n"
     ]
    }
   ],
   "source": [
    "best_model = grid_search.best_estimator_\n",
    "y_pred = best_model.predict(X_test)\n",
    "\n",
    "rmse = np.sqrt(mean_squared_error(y_test, y_pred))\n",
    "r2 = r2_score(y_test, y_pred)\n",
    "\n",
    "print(f\"RMSE: {rmse}\")\n",
    "print(f\"R²: {r2}\")\n",
    "\n",
    "##############\n",
    "\n",
    "best_model_rf = grid_search.best_estimator_\n",
    "y_pred = best_model.predict(X_test)\n",
    "\n",
    "rmse = np.sqrt(mean_squared_error(y_test, y_pred))\n",
    "r2 = r2_score(y_test, y_pred)\n",
    "\n",
    "print(f\"RMSE: {rmse}\")\n",
    "print(f\"R²: {r2}\")\n",
    "\n",
    "##############\n",
    "\n",
    "best_model_lgbm = grid_search_lgbm.best_estimator_\n",
    "y_pred_lgbm = best_model_lgbm.predict(X_test)\n",
    "\n",
    "\n",
    "rmse_lgbm = np.sqrt(mean_squared_error(y_test, y_pred_lgbm))\n",
    "r2_lgbm = r2_score(y_test, y_pred_lgbm)\n",
    "\n",
    "print(f\"LightGBM RMSE: {rmse_lgbm}\")\n",
    "print(f\"LightGBM R²: {r2_lgbm}\")\n"
   ]
  },
  {
   "cell_type": "code",
   "execution_count": null,
   "metadata": {},
   "outputs": [],
   "source": []
  },
  {
   "cell_type": "markdown",
   "metadata": {},
   "source": [
    "## 4.6 Summary"
   ]
  },
  {
   "cell_type": "code",
   "execution_count": null,
   "metadata": {},
   "outputs": [],
   "source": []
  },
  {
   "cell_type": "markdown",
   "metadata": {},
   "source": [
    "## 4.7 Exports"
   ]
  },
  {
   "cell_type": "markdown",
   "metadata": {},
   "source": []
  }
 ],
 "metadata": {
  "kernelspec": {
   "display_name": "Python 3",
   "language": "python",
   "name": "python3"
  },
  "language_info": {
   "codemirror_mode": {
    "name": "ipython",
    "version": 3
   },
   "file_extension": ".py",
   "mimetype": "text/x-python",
   "name": "python",
   "nbconvert_exporter": "python",
   "pygments_lexer": "ipython3",
   "version": "3.12.1"
  }
 },
 "nbformat": 4,
 "nbformat_minor": 2
}
